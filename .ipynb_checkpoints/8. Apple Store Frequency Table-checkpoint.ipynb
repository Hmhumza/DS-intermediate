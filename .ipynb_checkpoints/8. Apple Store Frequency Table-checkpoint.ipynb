{
 "cells": [
  {
   "cell_type": "code",
   "execution_count": 1,
   "metadata": {},
   "outputs": [],
   "source": [
    "from csv import reader"
   ]
  },
  {
   "cell_type": "code",
   "execution_count": 2,
   "metadata": {},
   "outputs": [],
   "source": [
    "applestore = list(reader(open(\"AppleStore.csv\",encoding = \"utf-8\")))"
   ]
  },
  {
   "cell_type": "markdown",
   "metadata": {},
   "source": [
    "* Genrate a frequency table of prime genre"
   ]
  },
  {
   "cell_type": "code",
   "execution_count": 5,
   "metadata": {},
   "outputs": [
    {
     "data": {
      "text/plain": [
       "11"
      ]
     },
     "execution_count": 5,
     "metadata": {},
     "output_type": "execute_result"
    }
   ],
   "source": [
    "applestore[0].index('prime_genre')"
   ]
  },
  {
   "cell_type": "code",
   "execution_count": 7,
   "metadata": {},
   "outputs": [],
   "source": [
    "genre = {}\n",
    "for i in applestore[1:]:\n",
    "    prime = i[11]\n",
    "    if prime in genre:\n",
    "        genre[prime] += 1\n",
    "    else:\n",
    "        genre[prime] = 1"
   ]
  },
  {
   "cell_type": "code",
   "execution_count": 8,
   "metadata": {},
   "outputs": [
    {
     "data": {
      "text/plain": [
       "{'Social Networking': 167,\n",
       " 'Photo & Video': 349,\n",
       " 'Games': 3862,\n",
       " 'Music': 138,\n",
       " 'Reference': 64,\n",
       " 'Health & Fitness': 180,\n",
       " 'Weather': 72,\n",
       " 'Utilities': 248,\n",
       " 'Travel': 81,\n",
       " 'Shopping': 122,\n",
       " 'News': 75,\n",
       " 'Navigation': 46,\n",
       " 'Lifestyle': 144,\n",
       " 'Entertainment': 535,\n",
       " 'Food & Drink': 63,\n",
       " 'Sports': 114,\n",
       " 'Book': 112,\n",
       " 'Finance': 104,\n",
       " 'Education': 453,\n",
       " 'Productivity': 178,\n",
       " 'Business': 57,\n",
       " 'Catalogs': 10,\n",
       " 'Medical': 23}"
      ]
     },
     "execution_count": 8,
     "metadata": {},
     "output_type": "execute_result"
    }
   ],
   "source": [
    "genre"
   ]
  },
  {
   "cell_type": "markdown",
   "metadata": {},
   "source": [
    "* Genrate a frequency table of prime genre for free Apps"
   ]
  },
  {
   "cell_type": "code",
   "execution_count": 10,
   "metadata": {},
   "outputs": [],
   "source": [
    "genre = {}\n",
    "for i in applestore[1:]:\n",
    "    prime = i[11]\n",
    "    price = float(i[4])\n",
    "    if price == 0:\n",
    "        if prime in genre:\n",
    "            genre[prime] += 1\n",
    "        else:\n",
    "            genre[prime] = 1"
   ]
  },
  {
   "cell_type": "code",
   "execution_count": 11,
   "metadata": {},
   "outputs": [
    {
     "data": {
      "text/plain": [
       "{'Social Networking': 143,\n",
       " 'Photo & Video': 167,\n",
       " 'Games': 2257,\n",
       " 'Music': 67,\n",
       " 'Reference': 20,\n",
       " 'Health & Fitness': 76,\n",
       " 'Weather': 31,\n",
       " 'Utilities': 109,\n",
       " 'Travel': 56,\n",
       " 'Shopping': 121,\n",
       " 'News': 58,\n",
       " 'Navigation': 20,\n",
       " 'Lifestyle': 94,\n",
       " 'Entertainment': 334,\n",
       " 'Food & Drink': 43,\n",
       " 'Sports': 79,\n",
       " 'Book': 66,\n",
       " 'Finance': 84,\n",
       " 'Education': 132,\n",
       " 'Productivity': 62,\n",
       " 'Business': 20,\n",
       " 'Catalogs': 9,\n",
       " 'Medical': 8}"
      ]
     },
     "execution_count": 11,
     "metadata": {},
     "output_type": "execute_result"
    }
   ],
   "source": [
    "genre"
   ]
  },
  {
   "cell_type": "code",
   "execution_count": 12,
   "metadata": {},
   "outputs": [],
   "source": [
    "genre = {}\n",
    "for i in applestore[1:]:\n",
    "    prime = i[11]\n",
    "    price = float(i[4])\n",
    "    if price > 0:\n",
    "        if prime in genre:\n",
    "            genre[prime] += 1\n",
    "        else:\n",
    "            genre[prime] = 1"
   ]
  },
  {
   "cell_type": "code",
   "execution_count": 13,
   "metadata": {},
   "outputs": [
    {
     "data": {
      "text/plain": [
       "{'Games': 1605,\n",
       " 'Entertainment': 201,\n",
       " 'Music': 71,\n",
       " 'Photo & Video': 182,\n",
       " 'Health & Fitness': 104,\n",
       " 'Business': 37,\n",
       " 'Weather': 41,\n",
       " 'Utilities': 139,\n",
       " 'News': 17,\n",
       " 'Education': 321,\n",
       " 'Reference': 44,\n",
       " 'Productivity': 116,\n",
       " 'Navigation': 26,\n",
       " 'Lifestyle': 50,\n",
       " 'Book': 46,\n",
       " 'Finance': 20,\n",
       " 'Sports': 35,\n",
       " 'Medical': 15,\n",
       " 'Travel': 25,\n",
       " 'Shopping': 1,\n",
       " 'Food & Drink': 20,\n",
       " 'Social Networking': 24,\n",
       " 'Catalogs': 1}"
      ]
     },
     "execution_count": 13,
     "metadata": {},
     "output_type": "execute_result"
    }
   ],
   "source": [
    "genre"
   ]
  },
  {
   "cell_type": "markdown",
   "metadata": {},
   "source": [
    "# Class Task\n",
    "* Genrate a frequency table of prime genre for paid Apps where user rating is greater than 4"
   ]
  },
  {
   "cell_type": "code",
   "execution_count": 15,
   "metadata": {},
   "outputs": [],
   "source": [
    "genre = {}\n",
    "for i in applestore[1:]:\n",
    "    prime = i[11]\n",
    "    price = float(i[4])\n",
    "    rating = float(i[7])\n",
    "    if price > 0 and rating > 4:\n",
    "        if prime in genre:\n",
    "            genre[prime] += 1\n",
    "        else:\n",
    "            genre[prime] = 1"
   ]
  },
  {
   "cell_type": "code",
   "execution_count": 16,
   "metadata": {},
   "outputs": [
    {
     "data": {
      "text/plain": [
       "{'Games': 813,\n",
       " 'Music': 34,\n",
       " 'Photo & Video': 89,\n",
       " 'Business': 18,\n",
       " 'Weather': 16,\n",
       " 'Health & Fitness': 67,\n",
       " 'Entertainment': 55,\n",
       " 'Utilities': 36,\n",
       " 'Education': 114,\n",
       " 'Reference': 21,\n",
       " 'Productivity': 57,\n",
       " 'Lifestyle': 17,\n",
       " 'Book': 29,\n",
       " 'Finance': 10,\n",
       " 'Sports': 10,\n",
       " 'Medical': 9,\n",
       " 'Shopping': 1,\n",
       " 'Food & Drink': 9,\n",
       " 'News': 4,\n",
       " 'Navigation': 9,\n",
       " 'Social Networking': 6,\n",
       " 'Travel': 10,\n",
       " 'Catalogs': 1}"
      ]
     },
     "execution_count": 16,
     "metadata": {},
     "output_type": "execute_result"
    }
   ],
   "source": [
    "genre"
   ]
  },
  {
   "cell_type": "code",
   "execution_count": null,
   "metadata": {},
   "outputs": [],
   "source": []
  }
 ],
 "metadata": {
  "kernelspec": {
   "display_name": "Python 3",
   "language": "python",
   "name": "python3"
  },
  "language_info": {
   "codemirror_mode": {
    "name": "ipython",
    "version": 3
   },
   "file_extension": ".py",
   "mimetype": "text/x-python",
   "name": "python",
   "nbconvert_exporter": "python",
   "pygments_lexer": "ipython3",
   "version": "3.8.3"
  }
 },
 "nbformat": 4,
 "nbformat_minor": 2
}
